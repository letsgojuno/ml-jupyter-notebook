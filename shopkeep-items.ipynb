{
 "cells": [
  {
   "cell_type": "code",
   "execution_count": 11,
   "metadata": {},
   "outputs": [],
   "source": [
    "%matplotlib inline\n",
    "import matplotlib\n",
    "import matplotlib.pyplot as plt\n",
    "import numpy as np\n",
    "import numpy.random as rnd\n",
    "import pandas as pd\n",
    "import sklearn"
   ]
  },
  {
   "cell_type": "code",
   "execution_count": 36,
   "metadata": {},
   "outputs": [],
   "source": [
    "csv = pd.read_csv('./shopkeep-items.csv')"
   ]
  },
  {
   "cell_type": "code",
   "execution_count": 40,
   "metadata": {},
   "outputs": [
    {
     "data": {
      "text/html": [
       "<div>\n",
       "<style>\n",
       "    .dataframe thead tr:only-child th {\n",
       "        text-align: right;\n",
       "    }\n",
       "\n",
       "    .dataframe thead th {\n",
       "        text-align: left;\n",
       "    }\n",
       "\n",
       "    .dataframe tbody tr th {\n",
       "        vertical-align: top;\n",
       "    }\n",
       "</style>\n",
       "<table border=\"1\" class=\"dataframe\">\n",
       "  <thead>\n",
       "    <tr style=\"text-align: right;\">\n",
       "      <th></th>\n",
       "      <th>Item Description</th>\n",
       "      <th>Department</th>\n",
       "      <th>Category</th>\n",
       "      <th>Quantity Sold</th>\n",
       "      <th>Sales Amount</th>\n",
       "      <th>Quantity Returned</th>\n",
       "      <th>Returns Amount</th>\n",
       "      <th>Costs</th>\n",
       "      <th>Discounts</th>\n",
       "      <th>Margin</th>\n",
       "      <th>Net Sales</th>\n",
       "      <th>Quantity on Hand</th>\n",
       "      <th>Supplier</th>\n",
       "      <th>Supplier Code</th>\n",
       "    </tr>\n",
       "  </thead>\n",
       "  <tbody>\n",
       "    <tr>\n",
       "      <th>0</th>\n",
       "      <td>Goddess Bath Bomb</td>\n",
       "      <td>Bath Bombs</td>\n",
       "      <td>Limited Edition</td>\n",
       "      <td>405.0</td>\n",
       "      <td>1721.25</td>\n",
       "      <td>0.0</td>\n",
       "      <td>0.0</td>\n",
       "      <td>303.75</td>\n",
       "      <td>78.92</td>\n",
       "      <td>81.50</td>\n",
       "      <td>1642.33</td>\n",
       "      <td>NaN</td>\n",
       "      <td>NaN</td>\n",
       "      <td>NaN</td>\n",
       "    </tr>\n",
       "    <tr>\n",
       "      <th>1</th>\n",
       "      <td>Juicy Girl Bath Bomb</td>\n",
       "      <td>Bath Bombs</td>\n",
       "      <td>Everyday</td>\n",
       "      <td>313.0</td>\n",
       "      <td>1330.25</td>\n",
       "      <td>0.0</td>\n",
       "      <td>0.0</td>\n",
       "      <td>234.75</td>\n",
       "      <td>59.68</td>\n",
       "      <td>81.52</td>\n",
       "      <td>1270.57</td>\n",
       "      <td>113.0</td>\n",
       "      <td>not tracked</td>\n",
       "      <td>NaN</td>\n",
       "    </tr>\n",
       "    <tr>\n",
       "      <th>2</th>\n",
       "      <td>Glitter Bomb</td>\n",
       "      <td>Bath Bombs</td>\n",
       "      <td>Limited Edition</td>\n",
       "      <td>282.0</td>\n",
       "      <td>1198.50</td>\n",
       "      <td>0.0</td>\n",
       "      <td>0.0</td>\n",
       "      <td>211.50</td>\n",
       "      <td>70.20</td>\n",
       "      <td>81.25</td>\n",
       "      <td>1128.30</td>\n",
       "      <td>72.0</td>\n",
       "      <td>not tracked</td>\n",
       "      <td>NaN</td>\n",
       "    </tr>\n",
       "  </tbody>\n",
       "</table>\n",
       "</div>"
      ],
      "text/plain": [
       "       Item Description  Department         Category  Quantity Sold  \\\n",
       "0     Goddess Bath Bomb  Bath Bombs  Limited Edition          405.0   \n",
       "1  Juicy Girl Bath Bomb  Bath Bombs         Everyday          313.0   \n",
       "2          Glitter Bomb  Bath Bombs  Limited Edition          282.0   \n",
       "\n",
       "   Sales Amount  Quantity Returned  Returns Amount   Costs  Discounts  Margin  \\\n",
       "0       1721.25                0.0             0.0  303.75      78.92   81.50   \n",
       "1       1330.25                0.0             0.0  234.75      59.68   81.52   \n",
       "2       1198.50                0.0             0.0  211.50      70.20   81.25   \n",
       "\n",
       "   Net Sales  Quantity on Hand     Supplier Supplier Code  \n",
       "0    1642.33               NaN          NaN           NaN  \n",
       "1    1270.57             113.0  not tracked           NaN  \n",
       "2    1128.30              72.0  not tracked           NaN  "
      ]
     },
     "execution_count": 40,
     "metadata": {},
     "output_type": "execute_result"
    }
   ],
   "source": [
    "csv.head(3)"
   ]
  },
  {
   "cell_type": "code",
   "execution_count": 35,
   "metadata": {},
   "outputs": [
    {
     "data": {
      "text/plain": [
       "405.0"
      ]
     },
     "execution_count": 35,
     "metadata": {},
     "output_type": "execute_result"
    }
   ],
   "source": [
    "np.nanmax(csv.loc[:,['Quantity Sold']])"
   ]
  },
  {
   "cell_type": "code",
   "execution_count": 23,
   "metadata": {},
   "outputs": [
    {
     "data": {
      "image/png": "[encoded data removed]",
      "text/plain": [
       "<matplotlib.figure.Figure at 0x1128d1a50>"
      ]
     },
     "metadata": {},
     "output_type": "display_data"
    }
   ],
   "source": [
    "margin = csv.loc[:,['Margin']]\n",
    "plt.plot(margin)\n",
    "plt.ylabel('Margin')\n",
    "plt.show()"
   ]
  }
 ],
 "metadata": {
  "kernelspec": {
   "display_name": "Python 2",
   "language": "python",
   "name": "python2"
  },
  "language_info": {
   "codemirror_mode": {
    "name": "ipython",
    "version": 2
   },
   "file_extension": ".py",
   "mimetype": "text/x-python",
   "name": "python",
   "nbconvert_exporter": "python",
   "pygments_lexer": "ipython2",
   "version": "2.7.12"
  }
 },
 "nbformat": 4,
 "nbformat_minor": 2
}
